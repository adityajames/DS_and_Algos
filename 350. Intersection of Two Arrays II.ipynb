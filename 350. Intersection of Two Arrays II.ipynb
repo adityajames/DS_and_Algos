{
 "cells": [
  {
   "cell_type": "code",
   "execution_count": 1,
   "metadata": {},
   "outputs": [],
   "source": [
    "import pprint\n",
    "import heapq\n",
    "from typing import List"
   ]
  },
  {
   "cell_type": "code",
   "execution_count": 2,
   "metadata": {},
   "outputs": [],
   "source": [
    "#350. Intersection of Two Arrays II\n",
    "\n",
    "class Solution:\n",
    "    def intersect(self, nums1: List[int], nums2: List[int]) -> List[int]:\n",
    "\n",
    "        nums1.sort()\n",
    "        nums2.sort()\n",
    "        fin=[]\n",
    "        n1=0\n",
    "        n2=0\n",
    "        while True:\n",
    "            if n1==len(nums1) or n2==len(nums2):\n",
    "                    break\n",
    "            else:\n",
    "                if nums1[n1]==nums2[n2]:\n",
    "                    x=nums1[n1]\n",
    "                    fin.append(x)\n",
    "                    n1+=1\n",
    "                    n2+=1\n",
    "                elif nums1[n1]<nums2[n2]:\n",
    "                    n1+=1\n",
    "                else:\n",
    "                    n2+=1\n",
    "        return (fin)\n",
    "      \n"
   ]
  },
  {
   "cell_type": "code",
   "execution_count": 3,
   "metadata": {},
   "outputs": [
    {
     "name": "stdout",
     "output_type": "stream",
     "text": [
      "[4, 6]\n"
     ]
    }
   ],
   "source": [
    "x=Solution()   \n",
    "\n",
    "nums1 = [4,7,9,7,6,7]\n",
    "nums2 = [5,0,0,6,1,6,2,2,4]\n",
    "print(x.intersect(nums1,nums2))"
   ]
  },
  {
   "cell_type": "code",
   "execution_count": 4,
   "metadata": {},
   "outputs": [
    {
     "name": "stdout",
     "output_type": "stream",
     "text": [
      "[2, 2]\n"
     ]
    }
   ],
   "source": [
    "nums1 =[1,2,2,1]\n",
    "nums2 =[2,2]\n",
    "print(x.intersect(nums1,nums2))\n"
   ]
  },
  {
   "cell_type": "markdown",
   "metadata": {},
   "source": [
    "### One approach could be the creation of a heap but creation of heap is O(n) and popping out of elements is O(n log n) while sorting the elements is O(n log n)\n"
   ]
  },
  {
   "cell_type": "code",
   "execution_count": null,
   "metadata": {},
   "outputs": [],
   "source": []
  }
 ],
 "metadata": {
  "kernelspec": {
   "display_name": "Python 3.9.6 64-bit",
   "language": "python",
   "name": "python3"
  },
  "language_info": {
   "codemirror_mode": {
    "name": "ipython",
    "version": 3
   },
   "file_extension": ".py",
   "mimetype": "text/x-python",
   "name": "python",
   "nbconvert_exporter": "python",
   "pygments_lexer": "ipython3",
   "version": "3.9.6"
  },
  "orig_nbformat": 4,
  "vscode": {
   "interpreter": {
    "hash": "e3b5fbd04f68e2b0d30e8aa6dfd8616d885f307650246806c8ef721be6274b54"
   }
  }
 },
 "nbformat": 4,
 "nbformat_minor": 2
}
