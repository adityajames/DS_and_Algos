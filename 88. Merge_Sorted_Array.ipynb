{
 "cells": [
  {
   "cell_type": "code",
   "execution_count": 1,
   "metadata": {},
   "outputs": [],
   "source": [
    "import pprint\n",
    "import heapq\n",
    "from typing import List"
   ]
  },
  {
   "cell_type": "code",
   "execution_count": 2,
   "metadata": {},
   "outputs": [],
   "source": [
    "# 88. Merge Sorted Array\n",
    "class Solution:\n",
    "    def merge(self, nums1: List[int], m: int, nums2: List[int], n: int) -> None:\n",
    "        \"\"\"\n",
    "        Do not return anything, modify nums1 in-place instead.\n",
    "        \"\"\"\n",
    "\n",
    "        curr_pos=m+n-1\n",
    "        m-=1\n",
    "        n-=1\n",
    "\n",
    "        while True:\n",
    "            if m==-1 and n==-1:\n",
    "                break\n",
    "            if m==-1:\n",
    "                nums1[curr_pos]=nums2[n]\n",
    "                n-=1\n",
    "                curr_pos-=1\n",
    "            elif n==-1:\n",
    "                nums1[curr_pos]=nums1[m]\n",
    "                m-=1\n",
    "                curr_pos-=1\n",
    "\n",
    "            elif nums1[m]>nums2[n]:\n",
    "                nums1[curr_pos]=nums1[m]\n",
    "                m-=1\n",
    "                curr_pos-=1\n",
    "            else:\n",
    "                nums1[curr_pos]=nums2[n]\n",
    "                n-=1\n",
    "                curr_pos-=1\n",
    "           \n",
    "            \n",
    "nums1 = [1,2,3,0,0,0]\n",
    "m = 3\n",
    "nums2 = [2,5,6]\n",
    "n = 3     \n",
    "x=Solution()           \n",
    "x.merge(nums1,m,nums2,n)"
   ]
  },
  {
   "cell_type": "code",
   "execution_count": 3,
   "metadata": {},
   "outputs": [
    {
     "data": {
      "text/plain": [
       "[1, 2, 2, 3, 5, 6]"
      ]
     },
     "execution_count": 3,
     "metadata": {},
     "output_type": "execute_result"
    }
   ],
   "source": [
    "nums1"
   ]
  },
  {
   "cell_type": "markdown",
   "metadata": {},
   "source": [
    "# Approach\n",
    "##### Here one can approach from the start and compare observations or from the rear. Starting from the rear makes the tracking of the position much more easier than starting from the front\n"
   ]
  },
  {
   "cell_type": "code",
   "execution_count": null,
   "metadata": {},
   "outputs": [],
   "source": []
  }
 ],
 "metadata": {
  "kernelspec": {
   "display_name": "Python 3.9.6 64-bit",
   "language": "python",
   "name": "python3"
  },
  "language_info": {
   "codemirror_mode": {
    "name": "ipython",
    "version": 3
   },
   "file_extension": ".py",
   "mimetype": "text/x-python",
   "name": "python",
   "nbconvert_exporter": "python",
   "pygments_lexer": "ipython3",
   "version": "3.9.6"
  },
  "orig_nbformat": 4,
  "vscode": {
   "interpreter": {
    "hash": "e3b5fbd04f68e2b0d30e8aa6dfd8616d885f307650246806c8ef721be6274b54"
   }
  }
 },
 "nbformat": 4,
 "nbformat_minor": 2
}
